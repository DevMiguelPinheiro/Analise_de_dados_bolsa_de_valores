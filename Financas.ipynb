{
 "cells": [
  {
   "cell_type": "markdown",
   "id": "ab316622",
   "metadata": {},
   "source": [
    "### Análise exploratória de mercado financeiro "
   ]
  },
  {
   "cell_type": "code",
   "execution_count": null,
   "id": "1f017211",
   "metadata": {},
   "outputs": [],
   "source": [
    "!pip install pandas\n",
    "!pip install matplotlib\n",
    "!pip install yfinance\n",
    "!pip install statsmodels"
   ]
  },
  {
   "cell_type": "code",
   "execution_count": null,
   "id": "a8fa616a",
   "metadata": {},
   "outputs": [],
   "source": [
    "#libs\n",
    "\n",
    "import pandas as pd\n",
    "import matplotlib.pyplot as plt\n",
    "import yfinance as yf\n",
    "from statsmodels.tsa.seasonal import seasonal_decompose"
   ]
  },
  {
   "cell_type": "markdown",
   "id": "aa5648be",
   "metadata": {},
   "source": [
    "### Carregando os dados da bolsa no período de 01/01/2021 até 01/01/2024."
   ]
  },
  {
   "cell_type": "code",
   "execution_count": null,
   "id": "f0d70ffc",
   "metadata": {},
   "outputs": [],
   "source": [
    "bolsa = yf.Ticker('^BVSP')\n",
    "df = bolsa.history(interval='1d',start='2021-01-01',end='2024-01-01')"
   ]
  },
  {
   "cell_type": "code",
   "execution_count": null,
   "id": "0046dc82",
   "metadata": {},
   "outputs": [],
   "source": [
    "df"
   ]
  },
  {
   "cell_type": "code",
   "execution_count": null,
   "id": "36e62ba2",
   "metadata": {},
   "outputs": [],
   "source": [
    "df[['Close']].info()"
   ]
  },
  {
   "cell_type": "code",
   "execution_count": null,
   "id": "f2b46f5c",
   "metadata": {},
   "outputs": [],
   "source": [
    "decomp = seasonal_decompose(df[['Close']],model='aditive',period=30,extrapolate_trend=30)"
   ]
  },
  {
   "cell_type": "code",
   "execution_count": null,
   "id": "99b48ac8",
   "metadata": {},
   "outputs": [],
   "source": [
    "df[['Close']].plot()"
   ]
  },
  {
   "cell_type": "code",
   "execution_count": null,
   "id": "7c279eeb",
   "metadata": {},
   "outputs": [],
   "source": [
    "decomp.seasonal + decomp.resid + decomp.trend"
   ]
  },
  {
   "cell_type": "markdown",
   "id": "a83aefce",
   "metadata": {},
   "source": [
    "### Tendencia"
   ]
  },
  {
   "cell_type": "code",
   "execution_count": null,
   "id": "d75e2da0",
   "metadata": {},
   "outputs": [],
   "source": [
    "decomp.trend.iloc[0:5]"
   ]
  },
  {
   "cell_type": "code",
   "execution_count": null,
   "id": "e379f532",
   "metadata": {},
   "outputs": [],
   "source": [
    "decomp.plot()"
   ]
  },
  {
   "cell_type": "markdown",
   "id": "3a5b2afd",
   "metadata": {},
   "source": [
    "Ruido muito alto muita descrepancia"
   ]
  },
  {
   "cell_type": "code",
   "execution_count": null,
   "id": "bc36dfab",
   "metadata": {},
   "outputs": [],
   "source": [
    "max(decomp.resid)"
   ]
  },
  {
   "cell_type": "markdown",
   "id": "afb506c3",
   "metadata": {},
   "source": [
    "Media Móvel"
   ]
  },
  {
   "cell_type": "code",
   "execution_count": null,
   "id": "503f5282",
   "metadata": {},
   "outputs": [],
   "source": [
    "df['Close'].rolling(7).mean()"
   ]
  },
  {
   "cell_type": "code",
   "execution_count": null,
   "id": "26869a30",
   "metadata": {},
   "outputs": [],
   "source": [
    "media_movel_semana = df['Close'].rolling(7).mean()\n",
    "media_movel_quinzena = df['Close'].rolling(15).mean()\n",
    "media_movel_21d = df['Close'].rolling(21).mean()"
   ]
  },
  {
   "cell_type": "code",
   "execution_count": null,
   "id": "231b6f93",
   "metadata": {},
   "outputs": [],
   "source": [
    "fig,ax = plt.subplots(figsize=(12,5))\n",
    "\n",
    "plt.plot(media_movel_semana,'orange')"
   ]
  },
  {
   "cell_type": "code",
   "execution_count": null,
   "id": "84adf2ac",
   "metadata": {},
   "outputs": [],
   "source": [
    "df.head()"
   ]
  },
  {
   "cell_type": "code",
   "execution_count": null,
   "id": "13fdf58c",
   "metadata": {},
   "outputs": [],
   "source": [
    "df.reset_index(inplace=True)"
   ]
  },
  {
   "cell_type": "markdown",
   "id": "e6a1832e",
   "metadata": {},
   "source": [
    "### Adicionando as colunas Dia Mês e Ano"
   ]
  },
  {
   "cell_type": "code",
   "execution_count": null,
   "id": "24c56760",
   "metadata": {},
   "outputs": [],
   "source": [
    "df['year'] = df['Date'].dt.year\n",
    "df['month'] = df['Date'].dt.month\n",
    "df['day'] = df['Date'].dt.day"
   ]
  },
  {
   "cell_type": "code",
   "execution_count": null,
   "id": "46c891b4",
   "metadata": {},
   "outputs": [],
   "source": [
    "df.head()"
   ]
  },
  {
   "cell_type": "markdown",
   "id": "420e7135",
   "metadata": {},
   "source": [
    "### Calcular Rentabilidade preco atual / preco anterior * 100 - 100"
   ]
  },
  {
   "cell_type": "code",
   "execution_count": null,
   "id": "8ec79ce7",
   "metadata": {},
   "outputs": [],
   "source": [
    "df[['Close']]"
   ]
  },
  {
   "cell_type": "code",
   "execution_count": null,
   "id": "4dd4baf9",
   "metadata": {},
   "outputs": [],
   "source": [
    "df.head()"
   ]
  },
  {
   "cell_type": "code",
   "execution_count": null,
   "id": "7000a661",
   "metadata": {},
   "outputs": [],
   "source": [
    "df['Close'].shift()"
   ]
  },
  {
   "cell_type": "code",
   "execution_count": null,
   "id": "0709be7c",
   "metadata": {},
   "outputs": [],
   "source": [
    "df['rentabilidade'] = df['Close']/df['Close'].shift()*100 - 100"
   ]
  },
  {
   "cell_type": "code",
   "execution_count": null,
   "id": "043e34b3",
   "metadata": {},
   "outputs": [],
   "source": [
    "def extrair(df_):\n",
    "    df_['year'] = df_['Date'].dt.year\n",
    "    df_['month'] = df_['Date'].dt.month\n",
    "    df_['day'] = df_['Date'].dt.day"
   ]
  },
  {
   "cell_type": "code",
   "execution_count": null,
   "id": "71443338",
   "metadata": {},
   "outputs": [],
   "source": [
    "extrair(df)"
   ]
  },
  {
   "cell_type": "code",
   "execution_count": null,
   "id": "7aabd010",
   "metadata": {},
   "outputs": [],
   "source": [
    "df.head()"
   ]
  },
  {
   "cell_type": "markdown",
   "id": "114b6091",
   "metadata": {},
   "source": [
    "### Existe um melhor mês para investir na bolsa?"
   ]
  },
  {
   "cell_type": "code",
   "execution_count": null,
   "id": "9d7a4ec8",
   "metadata": {},
   "outputs": [],
   "source": [
    "df.groupby('month').agg({'rentabilidade':'sum'}).plot(kind='bar')"
   ]
  }
 ],
 "metadata": {
  "kernelspec": {
   "display_name": "Python 3 (ipykernel)",
   "language": "python",
   "name": "python3"
  },
  "language_info": {
   "codemirror_mode": {
    "name": "ipython",
    "version": 3
   },
   "file_extension": ".py",
   "mimetype": "text/x-python",
   "name": "python",
   "nbconvert_exporter": "python",
   "pygments_lexer": "ipython3",
   "version": "3.10.0"
  }
 },
 "nbformat": 4,
 "nbformat_minor": 5
}
